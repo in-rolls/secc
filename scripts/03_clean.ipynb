{
 "cells": [
  {
   "cell_type": "markdown",
   "metadata": {},
   "source": [
    "### Clean SECC Data\n",
    "\n",
    "We dedupe and remove empty rows from the data. "
   ]
  },
  {
   "cell_type": "code",
   "execution_count": 1,
   "metadata": {},
   "outputs": [],
   "source": [
    "import pandas as pd\n",
    "from glob import glob\n",
    "import libarchive # `pip install libarchive-c` and using with libarchive 3.4.x\n",
    "from io import BytesIO\n",
    "import re"
   ]
  },
  {
   "cell_type": "code",
   "execution_count": 2,
   "metadata": {},
   "outputs": [
    {
     "name": "stdout",
     "output_type": "stream",
     "text": [
      "../secc/secc_01_clean.7z\n",
      "176.7793779373169\n"
     ]
    },
    {
     "name": "stderr",
     "output_type": "stream",
     "text": [
      "/opt/venv37/lib/python3.7/site-packages/IPython/core/interactiveshell.py:3063: DtypeWarning: Columns (7,8,10,11,19) have mixed types.Specify dtype option on import or set low_memory=False.\n",
      "  interactivity=interactivity, compiler=compiler, result=result)\n"
     ]
    },
    {
     "name": "stdout",
     "output_type": "stream",
     "text": [
      "../secc/secc_02_clean.7z\n",
      "461.01110553741455\n",
      "../secc/secc_03_clean.7z\n",
      "708.2516670227051\n",
      "../secc/secc_04_clean.7z\n",
      "1086.6022787094116\n",
      "../secc/secc_05_clean.7z\n",
      "2518.407386779785\n"
     ]
    },
    {
     "name": "stderr",
     "output_type": "stream",
     "text": [
      "/opt/venv37/lib/python3.7/site-packages/IPython/core/interactiveshell.py:3063: DtypeWarning: Columns (9) have mixed types.Specify dtype option on import or set low_memory=False.\n",
      "  interactivity=interactivity, compiler=compiler, result=result)\n"
     ]
    },
    {
     "name": "stdout",
     "output_type": "stream",
     "text": [
      "../secc/secc_06_clean.7z\n",
      "2860.2195234298706\n",
      "../secc/secc_07_clean.7z\n",
      "4860.83153629303\n"
     ]
    },
    {
     "name": "stderr",
     "output_type": "stream",
     "text": [
      "/opt/venv37/lib/python3.7/site-packages/IPython/core/interactiveshell.py:3063: DtypeWarning: Columns (9) have mixed types.Specify dtype option on import or set low_memory=False.\n",
      "  interactivity=interactivity, compiler=compiler, result=result)\n"
     ]
    },
    {
     "name": "stdout",
     "output_type": "stream",
     "text": [
      "../secc/secc_08_clean.7z\n",
      "5603.874640464783\n"
     ]
    },
    {
     "name": "stderr",
     "output_type": "stream",
     "text": [
      "/opt/venv37/lib/python3.7/site-packages/IPython/core/interactiveshell.py:3063: DtypeWarning: Columns (9) have mixed types.Specify dtype option on import or set low_memory=False.\n",
      "  interactivity=interactivity, compiler=compiler, result=result)\n"
     ]
    },
    {
     "name": "stdout",
     "output_type": "stream",
     "text": [
      "../secc/secc_09_clean.7z\n",
      "6653.367053031921\n"
     ]
    },
    {
     "name": "stderr",
     "output_type": "stream",
     "text": [
      "/opt/venv37/lib/python3.7/site-packages/IPython/core/interactiveshell.py:3063: DtypeWarning: Columns (9) have mixed types.Specify dtype option on import or set low_memory=False.\n",
      "  interactivity=interactivity, compiler=compiler, result=result)\n"
     ]
    },
    {
     "name": "stdout",
     "output_type": "stream",
     "text": [
      "../secc/secc_10_clean.7z\n",
      "7784.850826263428\n"
     ]
    },
    {
     "name": "stderr",
     "output_type": "stream",
     "text": [
      "/opt/venv37/lib/python3.7/site-packages/IPython/core/interactiveshell.py:3063: DtypeWarning: Columns (9) have mixed types.Specify dtype option on import or set low_memory=False.\n",
      "  interactivity=interactivity, compiler=compiler, result=result)\n"
     ]
    },
    {
     "name": "stdout",
     "output_type": "stream",
     "text": [
      "../secc/secc_11_clean.7z\n",
      "9917.872200012207\n"
     ]
    },
    {
     "name": "stderr",
     "output_type": "stream",
     "text": [
      "/opt/venv37/lib/python3.7/site-packages/IPython/core/interactiveshell.py:3063: DtypeWarning: Columns (9) have mixed types.Specify dtype option on import or set low_memory=False.\n",
      "  interactivity=interactivity, compiler=compiler, result=result)\n"
     ]
    },
    {
     "name": "stdout",
     "output_type": "stream",
     "text": [
      "../secc/secc_12_clean.7z\n",
      "17591.66613292694\n"
     ]
    },
    {
     "name": "stderr",
     "output_type": "stream",
     "text": [
      "/opt/venv37/lib/python3.7/site-packages/IPython/core/interactiveshell.py:3063: DtypeWarning: Columns (9) have mixed types.Specify dtype option on import or set low_memory=False.\n",
      "  interactivity=interactivity, compiler=compiler, result=result)\n"
     ]
    },
    {
     "name": "stdout",
     "output_type": "stream",
     "text": [
      "../secc/secc_13_clean.7z\n",
      "21133.336561203003\n",
      "../secc/secc_14_clean.7z\n",
      "21975.37604522705\n",
      "../secc/secc_18_clean.7z\n",
      "31134.20018672943\n"
     ]
    },
    {
     "name": "stderr",
     "output_type": "stream",
     "text": [
      "/opt/venv37/lib/python3.7/site-packages/IPython/core/interactiveshell.py:3063: DtypeWarning: Columns (9) have mixed types.Specify dtype option on import or set low_memory=False.\n",
      "  interactivity=interactivity, compiler=compiler, result=result)\n"
     ]
    },
    {
     "name": "stdout",
     "output_type": "stream",
     "text": [
      "../secc/secc_19_clean.7z\n",
      "39696.162598609924\n",
      "../secc/secc_20_clean.7z\n",
      "44356.14046859741\n",
      "../secc/secc_22_clean.7z\n",
      "45729.06132698059\n",
      "../secc/secc_23_clean.7z\n",
      "48349.00914669037\n",
      "../secc/secc_24_clean.7z\n",
      "49721.85418987274\n",
      "../secc/secc_25_clean.7z\n",
      "53190.40974330902\n",
      "../secc/secc_26_clean.7z\n",
      "53564.094539642334\n",
      "../secc/secc_27_clean.7z\n",
      "53795.549679756165\n",
      "../secc/secc_28_clean.7z\n",
      "54099.5888671875\n",
      "../secc/secc_29_clean.7z\n",
      "54638.549253463745\n",
      "../secc/secc_30_clean.7z\n",
      "54867.573912620544\n",
      "../secc/secc_31_clean.7z\n",
      "57216.43510913849\n",
      "../secc/secc_32_clean.7z\n",
      "58128.02628517151\n",
      "../secc/secc_33_clean.7z\n",
      "58288.992074012756\n",
      "../secc/secc_34_clean.7z\n",
      "61280.37703895569\n",
      "../secc/secc_35_clean.7z\n",
      "61983.71324157715\n",
      "../secc/secc_36_clean.7z\n",
      "63121.11737060547\n",
      "../secc/secc_37_clean.7z\n",
      "67873.73983478546\n",
      "../secc/secc_38_clean.7z\n",
      "74184.90186691284\n"
     ]
    },
    {
     "name": "stderr",
     "output_type": "stream",
     "text": [
      "/opt/venv37/lib/python3.7/site-packages/IPython/core/interactiveshell.py:3063: DtypeWarning: Columns (9) have mixed types.Specify dtype option on import or set low_memory=False.\n",
      "  interactivity=interactivity, compiler=compiler, result=result)\n"
     ]
    },
    {
     "name": "stdout",
     "output_type": "stream",
     "text": [
      "../secc/secc_39_clean.7z\n",
      "75198.25197219849\n",
      "../secc/secc_40_clean.7z\n",
      "75617.84690380096\n",
      "../secc/secc_41_clean.7z\n",
      "78342.83068180084\n"
     ]
    },
    {
     "name": "stderr",
     "output_type": "stream",
     "text": [
      "/opt/venv37/lib/python3.7/site-packages/IPython/core/interactiveshell.py:3063: DtypeWarning: Columns (9) have mixed types.Specify dtype option on import or set low_memory=False.\n",
      "  interactivity=interactivity, compiler=compiler, result=result)\n"
     ]
    },
    {
     "name": "stdout",
     "output_type": "stream",
     "text": [
      "../secc/secc_42_clean.7z\n",
      "80953.0014925003\n",
      "../secc/secc_43_clean.7z\n",
      "83238.80101299286\n",
      "../secc/secc_44_clean.7z\n",
      "85135.48568344116\n"
     ]
    },
    {
     "name": "stderr",
     "output_type": "stream",
     "text": [
      "/opt/venv37/lib/python3.7/site-packages/IPython/core/interactiveshell.py:3063: DtypeWarning: Columns (9) have mixed types.Specify dtype option on import or set low_memory=False.\n",
      "  interactivity=interactivity, compiler=compiler, result=result)\n"
     ]
    },
    {
     "name": "stdout",
     "output_type": "stream",
     "text": [
      "../secc/secc_45_clean.7z\n",
      "85284.77791786194\n",
      "../secc/secc_46_clean.7z\n",
      "89282.15476989746\n",
      "../secc/secc_47_clean.7z\n",
      "92503.64129447937\n",
      "../secc/secc_48_clean.7z\n",
      "95726.09634971619\n"
     ]
    }
   ],
   "source": [
    "total_size = 0\n",
    "header = True\n",
    "for fn in sorted(glob('../secc/secc*.7z')):\n",
    "    print(fn)\n",
    "    #m = re.match('.*?(\\d+).*', fn)\n",
    "    #if m:\n",
    "    #    if int(m.group(1)) > 18:\n",
    "    #        break\n",
    "    with libarchive.file_reader(fn) as e:\n",
    "        for entry in e:\n",
    "            total_size += entry.size\n",
    "            print(total_size / (1024*1024))\n",
    "            with BytesIO() as f:\n",
    "                for i, block in enumerate(entry.get_blocks()):\n",
    "                    f.write(block)\n",
    "                f.seek(0)\n",
    "                #df = pd.read_csv(f, nrows=10)\n",
    "                df = pd.read_csv(f, usecols=['state', 'head_of_hh', 'fathers_and_mothers_name', 'gender', 'age', 'social_cat', 'auto_inclusion_deprivation_or_exclusion_or_other ', 'village'])\n",
    "\n",
    "    df.drop(df[df['auto_inclusion_deprivation_or_exclusion_or_other ']!='Auto Inclusion or Deprivation'].index, inplace=True)\n",
    "    df.dropna(subset=['head_of_hh'], inplace=True)\n",
    "    df.state = df.state.str.lower()\n",
    "    df.gender = df.gender.str.lower()\n",
    "    df.social_cat = df.social_cat.str.lower()\n",
    "    df['name'] = df.head_of_hh.str.split('\\\\').str[0]\n",
    "    df.name = df.name.str.lower()\n",
    "    df.fathers_and_mothers_name = df.fathers_and_mothers_name.str.lower()\n",
    "    del df['head_of_hh']\n",
    "    del df['auto_inclusion_deprivation_or_exclusion_or_other ']\n",
    "    df.drop_duplicates(inplace=True)\n",
    "    del df['village']\n",
    "    df.to_csv('/opt/data/secc/v2/secc_state_name_age_sex_social_cat.csv', mode='a', header=header, index=False)\n",
    "    header = False\n",
    "    #break"
   ]
  }
 ],
 "metadata": {
  "kernelspec": {
   "display_name": "Python 3",
   "language": "python",
   "name": "python3"
  },
  "language_info": {
   "codemirror_mode": {
    "name": "ipython",
    "version": 3
   },
   "file_extension": ".py",
   "mimetype": "text/x-python",
   "name": "python",
   "nbconvert_exporter": "python",
   "pygments_lexer": "ipython3",
   "version": "3.7.8"
  }
 },
 "nbformat": 4,
 "nbformat_minor": 2
}
