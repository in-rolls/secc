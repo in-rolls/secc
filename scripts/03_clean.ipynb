{
 "cells": [
  {
   "cell_type": "markdown",
   "metadata": {},
   "source": [
    "### Clean SECC Data\n",
    "\n",
    "We dedupe and remove empty rows from the data. "
   ]
  },
  {
   "cell_type": "code",
   "execution_count": 1,
   "metadata": {},
   "outputs": [],
   "source": [
    "import pandas as pd\n",
    "from glob import glob\n",
    "import libarchive # `pip install libarchive-c` and using with libarchive 3.4.x\n",
    "from io import BytesIO\n",
    "import re"
   ]
  },
  {
   "cell_type": "code",
   "execution_count": 2,
   "metadata": {},
   "outputs": [
    {
     "name": "stdout",
     "output_type": "stream",
     "text": [
      "../secc/secc_01_clean.7z\n",
      "176.7793779373169\n"
     ]
    },
    {
     "name": "stderr",
     "output_type": "stream",
     "text": [
      "/opt/venv37/lib/python3.7/site-packages/IPython/core/interactiveshell.py:3063: DtypeWarning: Columns (7,8,10,11,12,13,19) have mixed types.Specify dtype option on import or set low_memory=False.\n",
      "  interactivity=interactivity, compiler=compiler, result=result)\n"
     ]
    },
    {
     "name": "stdout",
     "output_type": "stream",
     "text": [
      "327700 327700 Index(['state', 'district', 'tehsil', 'panchayat', 'language', 'head_of_hh',\n",
      "       'gender', 'age', 'social_cat', 'fathers_and_mothers_name',\n",
      "       'deprivation_count', 'auto_inclusion_deprivation_code', 'total_members',\n",
      "       'hh_summary_auto_inclusion', 'hh_summary_auto_exclusion',\n",
      "       'hh_summary_auto_other', 'hh_summary_deprivation', 'village'],\n",
      "      dtype='object')\n",
      "../secc/secc_02_clean.7z\n",
      "461.01110553741455\n",
      "420446 748146 Index(['state', 'district', 'tehsil', 'panchayat', 'language', 'head_of_hh',\n",
      "       'gender', 'age', 'social_cat', 'fathers_and_mothers_name',\n",
      "       'deprivation_count', 'auto_inclusion_deprivation_code', 'total_members',\n",
      "       'hh_summary_auto_inclusion', 'hh_summary_auto_exclusion',\n",
      "       'hh_summary_auto_other', 'hh_summary_deprivation', 'village'],\n",
      "      dtype='object')\n",
      "../secc/secc_03_clean.7z\n",
      "708.2516670227051\n",
      "353646 1101792 Index(['state', 'district', 'tehsil', 'panchayat', 'language', 'head_of_hh',\n",
      "       'gender', 'age', 'social_cat', 'fathers_and_mothers_name',\n",
      "       'deprivation_count', 'auto_inclusion_deprivation_code', 'total_members',\n",
      "       'hh_summary_auto_inclusion', 'hh_summary_auto_exclusion',\n",
      "       'hh_summary_auto_other', 'hh_summary_deprivation', 'village'],\n",
      "      dtype='object')\n",
      "../secc/secc_04_clean.7z\n",
      "1086.6022787094116\n",
      "532889 1634681 Index(['state', 'district', 'tehsil', 'panchayat', 'language', 'head_of_hh',\n",
      "       'gender', 'age', 'social_cat', 'fathers_and_mothers_name',\n",
      "       'deprivation_count', 'auto_inclusion_deprivation_code', 'total_members',\n",
      "       'hh_summary_auto_inclusion', 'hh_summary_auto_exclusion',\n",
      "       'hh_summary_auto_other', 'hh_summary_deprivation', 'village'],\n",
      "      dtype='object')\n",
      "../secc/secc_05_clean.7z\n",
      "2518.407386779785\n"
     ]
    },
    {
     "name": "stderr",
     "output_type": "stream",
     "text": [
      "/opt/venv37/lib/python3.7/site-packages/IPython/core/interactiveshell.py:3063: DtypeWarning: Columns (9) have mixed types.Specify dtype option on import or set low_memory=False.\n",
      "  interactivity=interactivity, compiler=compiler, result=result)\n"
     ]
    },
    {
     "name": "stdout",
     "output_type": "stream",
     "text": [
      "2198627 3833308 Index(['state', 'district', 'tehsil', 'panchayat', 'language', 'head_of_hh',\n",
      "       'gender', 'age', 'social_cat', 'fathers_and_mothers_name',\n",
      "       'deprivation_count', 'auto_inclusion_deprivation_code', 'total_members',\n",
      "       'hh_summary_auto_inclusion', 'hh_summary_auto_exclusion',\n",
      "       'hh_summary_auto_other', 'hh_summary_deprivation', 'village'],\n",
      "      dtype='object')\n",
      "../secc/secc_06_clean.7z\n",
      "2860.2195234298706\n",
      "528013 4361321 Index(['state', 'district', 'tehsil', 'panchayat', 'language', 'head_of_hh',\n",
      "       'gender', 'age', 'social_cat', 'fathers_and_mothers_name',\n",
      "       'deprivation_count', 'auto_inclusion_deprivation_code', 'total_members',\n",
      "       'hh_summary_auto_inclusion', 'hh_summary_auto_exclusion',\n",
      "       'hh_summary_auto_other', 'hh_summary_deprivation', 'village'],\n",
      "      dtype='object')\n",
      "../secc/secc_07_clean.7z\n",
      "4860.83153629303\n"
     ]
    },
    {
     "name": "stderr",
     "output_type": "stream",
     "text": [
      "/opt/venv37/lib/python3.7/site-packages/IPython/core/interactiveshell.py:3063: DtypeWarning: Columns (9) have mixed types.Specify dtype option on import or set low_memory=False.\n",
      "  interactivity=interactivity, compiler=compiler, result=result)\n"
     ]
    },
    {
     "name": "stdout",
     "output_type": "stream",
     "text": [
      "3090980 7452301 Index(['state', 'district', 'tehsil', 'panchayat', 'language', 'head_of_hh',\n",
      "       'gender', 'age', 'social_cat', 'fathers_and_mothers_name',\n",
      "       'deprivation_count', 'auto_inclusion_deprivation_code', 'total_members',\n",
      "       'hh_summary_auto_inclusion', 'hh_summary_auto_exclusion',\n",
      "       'hh_summary_auto_other', 'hh_summary_deprivation', 'village'],\n",
      "      dtype='object')\n",
      "../secc/secc_08_clean.7z\n",
      "5603.874640464783\n"
     ]
    },
    {
     "name": "stderr",
     "output_type": "stream",
     "text": [
      "/opt/venv37/lib/python3.7/site-packages/IPython/core/interactiveshell.py:3063: DtypeWarning: Columns (9) have mixed types.Specify dtype option on import or set low_memory=False.\n",
      "  interactivity=interactivity, compiler=compiler, result=result)\n"
     ]
    },
    {
     "name": "stdout",
     "output_type": "stream",
     "text": [
      "1171339 8623640 Index(['state', 'district', 'tehsil', 'panchayat', 'language', 'head_of_hh',\n",
      "       'gender', 'age', 'social_cat', 'fathers_and_mothers_name',\n",
      "       'deprivation_count', 'auto_inclusion_deprivation_code', 'total_members',\n",
      "       'hh_summary_auto_inclusion', 'hh_summary_auto_exclusion',\n",
      "       'hh_summary_auto_other', 'hh_summary_deprivation', 'village'],\n",
      "      dtype='object')\n",
      "../secc/secc_09_clean.7z\n",
      "6653.367053031921\n"
     ]
    },
    {
     "name": "stderr",
     "output_type": "stream",
     "text": [
      "/opt/venv37/lib/python3.7/site-packages/IPython/core/interactiveshell.py:3063: DtypeWarning: Columns (9) have mixed types.Specify dtype option on import or set low_memory=False.\n",
      "  interactivity=interactivity, compiler=compiler, result=result)\n"
     ]
    },
    {
     "name": "stdout",
     "output_type": "stream",
     "text": [
      "1609577 10233217 Index(['state', 'district', 'tehsil', 'panchayat', 'language', 'head_of_hh',\n",
      "       'gender', 'age', 'social_cat', 'fathers_and_mothers_name',\n",
      "       'deprivation_count', 'auto_inclusion_deprivation_code', 'total_members',\n",
      "       'hh_summary_auto_inclusion', 'hh_summary_auto_exclusion',\n",
      "       'hh_summary_auto_other', 'hh_summary_deprivation', 'village'],\n",
      "      dtype='object')\n",
      "../secc/secc_10_clean.7z\n",
      "7784.850826263428\n"
     ]
    },
    {
     "name": "stderr",
     "output_type": "stream",
     "text": [
      "/opt/venv37/lib/python3.7/site-packages/IPython/core/interactiveshell.py:3063: DtypeWarning: Columns (9) have mixed types.Specify dtype option on import or set low_memory=False.\n",
      "  interactivity=interactivity, compiler=compiler, result=result)\n"
     ]
    },
    {
     "name": "stdout",
     "output_type": "stream",
     "text": [
      "1732626 11965843 Index(['state', 'district', 'tehsil', 'panchayat', 'language', 'head_of_hh',\n",
      "       'gender', 'age', 'social_cat', 'fathers_and_mothers_name',\n",
      "       'deprivation_count', 'auto_inclusion_deprivation_code', 'total_members',\n",
      "       'hh_summary_auto_inclusion', 'hh_summary_auto_exclusion',\n",
      "       'hh_summary_auto_other', 'hh_summary_deprivation', 'village'],\n",
      "      dtype='object')\n",
      "../secc/secc_11_clean.7z\n",
      "9917.872200012207\n"
     ]
    },
    {
     "name": "stderr",
     "output_type": "stream",
     "text": [
      "/opt/venv37/lib/python3.7/site-packages/IPython/core/interactiveshell.py:3063: DtypeWarning: Columns (9) have mixed types.Specify dtype option on import or set low_memory=False.\n",
      "  interactivity=interactivity, compiler=compiler, result=result)\n"
     ]
    },
    {
     "name": "stdout",
     "output_type": "stream",
     "text": [
      "3268329 15234172 Index(['state', 'district', 'tehsil', 'panchayat', 'language', 'head_of_hh',\n",
      "       'gender', 'age', 'social_cat', 'fathers_and_mothers_name',\n",
      "       'deprivation_count', 'auto_inclusion_deprivation_code', 'total_members',\n",
      "       'hh_summary_auto_inclusion', 'hh_summary_auto_exclusion',\n",
      "       'hh_summary_auto_other', 'hh_summary_deprivation', 'village'],\n",
      "      dtype='object')\n",
      "../secc/secc_12_clean.7z\n",
      "17591.66613292694\n"
     ]
    },
    {
     "name": "stderr",
     "output_type": "stream",
     "text": [
      "/opt/venv37/lib/python3.7/site-packages/IPython/core/interactiveshell.py:3063: DtypeWarning: Columns (9) have mixed types.Specify dtype option on import or set low_memory=False.\n",
      "  interactivity=interactivity, compiler=compiler, result=result)\n"
     ]
    },
    {
     "name": "stdout",
     "output_type": "stream",
     "text": [
      "11504973 26739145 Index(['state', 'district', 'tehsil', 'panchayat', 'language', 'head_of_hh',\n",
      "       'gender', 'age', 'social_cat', 'fathers_and_mothers_name',\n",
      "       'deprivation_count', 'auto_inclusion_deprivation_code', 'total_members',\n",
      "       'hh_summary_auto_inclusion', 'hh_summary_auto_exclusion',\n",
      "       'hh_summary_auto_other', 'hh_summary_deprivation', 'village'],\n",
      "      dtype='object')\n",
      "../secc/secc_13_clean.7z\n",
      "21133.336561203003\n",
      "5011381 31750526 Index(['state', 'district', 'tehsil', 'panchayat', 'language', 'head_of_hh',\n",
      "       'gender', 'age', 'social_cat', 'fathers_and_mothers_name',\n",
      "       'deprivation_count', 'auto_inclusion_deprivation_code', 'total_members',\n",
      "       'hh_summary_auto_inclusion', 'hh_summary_auto_exclusion',\n",
      "       'hh_summary_auto_other', 'hh_summary_deprivation', 'village'],\n",
      "      dtype='object')\n",
      "../secc/secc_14_clean.7z\n",
      "21975.37604522705\n",
      "1393027 33143553 Index(['state', 'district', 'tehsil', 'panchayat', 'language', 'head_of_hh',\n",
      "       'gender', 'age', 'social_cat', 'fathers_and_mothers_name',\n",
      "       'deprivation_count', 'auto_inclusion_deprivation_code', 'total_members',\n",
      "       'hh_summary_auto_inclusion', 'hh_summary_auto_exclusion',\n",
      "       'hh_summary_auto_other', 'hh_summary_deprivation', 'village'],\n",
      "      dtype='object')\n",
      "../secc/secc_18_clean.7z\n",
      "31134.20018672943\n"
     ]
    },
    {
     "name": "stderr",
     "output_type": "stream",
     "text": [
      "/opt/venv37/lib/python3.7/site-packages/IPython/core/interactiveshell.py:3063: DtypeWarning: Columns (9,12) have mixed types.Specify dtype option on import or set low_memory=False.\n",
      "  interactivity=interactivity, compiler=compiler, result=result)\n"
     ]
    },
    {
     "name": "stdout",
     "output_type": "stream",
     "text": [
      "13752570 46896123 Index(['state', 'district', 'tehsil', 'panchayat', 'language', 'head_of_hh',\n",
      "       'gender', 'age', 'social_cat', 'fathers_and_mothers_name',\n",
      "       'deprivation_count', 'auto_inclusion_deprivation_code', 'total_members',\n",
      "       'hh_summary_auto_inclusion', 'hh_summary_auto_exclusion',\n",
      "       'hh_summary_auto_other', 'hh_summary_deprivation', 'village'],\n",
      "      dtype='object')\n",
      "../secc/secc_19_clean.7z\n",
      "39696.162598609924\n",
      "11347526 58243649 Index(['state', 'district', 'tehsil', 'panchayat', 'language', 'head_of_hh',\n",
      "       'gender', 'age', 'social_cat', 'fathers_and_mothers_name',\n",
      "       'deprivation_count', 'auto_inclusion_deprivation_code', 'total_members',\n",
      "       'hh_summary_auto_inclusion', 'hh_summary_auto_exclusion',\n",
      "       'hh_summary_auto_other', 'hh_summary_deprivation', 'village'],\n",
      "      dtype='object')\n",
      "../secc/secc_20_clean.7z\n",
      "44356.14046859741\n",
      "5828872 64072521 Index(['state', 'district', 'tehsil', 'panchayat', 'language', 'head_of_hh',\n",
      "       'gender', 'age', 'social_cat', 'fathers_and_mothers_name',\n",
      "       'deprivation_count', 'auto_inclusion_deprivation_code', 'total_members',\n",
      "       'hh_summary_auto_inclusion', 'hh_summary_auto_exclusion',\n",
      "       'hh_summary_auto_other', 'hh_summary_deprivation', 'village'],\n",
      "      dtype='object')\n",
      "../secc/secc_22_clean.7z\n",
      "45729.06132698059\n",
      "1918533 65991054 Index(['state', 'district', 'tehsil', 'panchayat', 'language', 'head_of_hh',\n",
      "       'gender', 'age', 'social_cat', 'fathers_and_mothers_name',\n",
      "       'deprivation_count', 'auto_inclusion_deprivation_code', 'total_members',\n",
      "       'hh_summary_auto_inclusion', 'hh_summary_auto_exclusion',\n",
      "       'hh_summary_auto_other', 'hh_summary_deprivation', 'village'],\n",
      "      dtype='object')\n",
      "../secc/secc_23_clean.7z\n",
      "48349.00914669037\n",
      "3734892 69725946 Index(['state', 'district', 'tehsil', 'panchayat', 'language', 'head_of_hh',\n",
      "       'gender', 'age', 'social_cat', 'fathers_and_mothers_name',\n",
      "       'deprivation_count', 'auto_inclusion_deprivation_code', 'total_members',\n",
      "       'hh_summary_auto_inclusion', 'hh_summary_auto_exclusion',\n",
      "       'hh_summary_auto_other', 'hh_summary_deprivation', 'village'],\n",
      "      dtype='object')\n",
      "../secc/secc_24_clean.7z\n",
      "49721.85418987274\n",
      "1918431 71644377 Index(['state', 'district', 'tehsil', 'panchayat', 'language', 'head_of_hh',\n",
      "       'gender', 'age', 'social_cat', 'fathers_and_mothers_name',\n",
      "       'deprivation_count', 'auto_inclusion_deprivation_code', 'total_members',\n",
      "       'hh_summary_auto_inclusion', 'hh_summary_auto_exclusion',\n",
      "       'hh_summary_auto_other', 'hh_summary_deprivation', 'village'],\n",
      "      dtype='object')\n",
      "../secc/secc_25_clean.7z\n",
      "53190.40974330902\n",
      "5033890 76678267 Index(['state', 'district', 'tehsil', 'panchayat', 'language', 'head_of_hh',\n",
      "       'gender', 'age', 'social_cat', 'fathers_and_mothers_name',\n",
      "       'deprivation_count', 'auto_inclusion_deprivation_code', 'total_members',\n",
      "       'hh_summary_auto_inclusion', 'hh_summary_auto_exclusion',\n",
      "       'hh_summary_auto_other', 'hh_summary_deprivation', 'village'],\n",
      "      dtype='object')\n",
      "../secc/secc_26_clean.7z\n",
      "53564.094539642334\n",
      "577417 77255684 Index(['state', 'district', 'tehsil', 'panchayat', 'language', 'head_of_hh',\n",
      "       'gender', 'age', 'social_cat', 'fathers_and_mothers_name',\n",
      "       'deprivation_count', 'auto_inclusion_deprivation_code', 'total_members',\n",
      "       'hh_summary_auto_inclusion', 'hh_summary_auto_exclusion',\n",
      "       'hh_summary_auto_other', 'hh_summary_deprivation', 'village'],\n",
      "      dtype='object')\n",
      "../secc/secc_27_clean.7z\n",
      "53795.549679756165\n",
      "365515 77621199 Index(['state', 'district', 'tehsil', 'panchayat', 'language', 'head_of_hh',\n",
      "       'gender', 'age', 'social_cat', 'fathers_and_mothers_name',\n",
      "       'deprivation_count', 'auto_inclusion_deprivation_code', 'total_members',\n",
      "       'hh_summary_auto_inclusion', 'hh_summary_auto_exclusion',\n",
      "       'hh_summary_auto_other', 'hh_summary_deprivation', 'village'],\n",
      "      dtype='object')\n",
      "../secc/secc_28_clean.7z\n",
      "54099.5888671875\n",
      "477106 78098305 Index(['state', 'district', 'tehsil', 'panchayat', 'language', 'head_of_hh',\n",
      "       'gender', 'age', 'social_cat', 'fathers_and_mothers_name',\n",
      "       'deprivation_count', 'auto_inclusion_deprivation_code', 'total_members',\n",
      "       'hh_summary_auto_inclusion', 'hh_summary_auto_exclusion',\n",
      "       'hh_summary_auto_other', 'hh_summary_deprivation', 'village'],\n",
      "      dtype='object')\n",
      "../secc/secc_29_clean.7z\n",
      "54638.549253463745\n",
      "921826 79020131 Index(['state', 'district', 'tehsil', 'panchayat', 'language', 'head_of_hh',\n",
      "       'gender', 'age', 'social_cat', 'fathers_and_mothers_name',\n",
      "       'deprivation_count', 'auto_inclusion_deprivation_code', 'total_members',\n",
      "       'hh_summary_auto_inclusion', 'hh_summary_auto_exclusion',\n",
      "       'hh_summary_auto_other', 'hh_summary_deprivation', 'village'],\n",
      "      dtype='object')\n",
      "../secc/secc_30_clean.7z\n",
      "54867.573912620544\n",
      "370615 79390746 Index(['state', 'district', 'tehsil', 'panchayat', 'language', 'head_of_hh',\n",
      "       'gender', 'age', 'social_cat', 'fathers_and_mothers_name',\n",
      "       'deprivation_count', 'auto_inclusion_deprivation_code', 'total_members',\n",
      "       'hh_summary_auto_inclusion', 'hh_summary_auto_exclusion',\n",
      "       'hh_summary_auto_other', 'hh_summary_deprivation', 'village'],\n",
      "      dtype='object')\n",
      "../secc/secc_31_clean.7z\n",
      "57216.43510913849\n",
      "3838900 83229646 Index(['state', 'district', 'tehsil', 'panchayat', 'language', 'head_of_hh',\n",
      "       'gender', 'age', 'social_cat', 'fathers_and_mothers_name',\n",
      "       'deprivation_count', 'auto_inclusion_deprivation_code', 'total_members',\n",
      "       'hh_summary_auto_inclusion', 'hh_summary_auto_exclusion',\n",
      "       'hh_summary_auto_other', 'hh_summary_deprivation', 'village'],\n",
      "      dtype='object')\n",
      "../secc/secc_32_clean.7z\n",
      "58128.02628517151\n",
      "1503947 84733593 Index(['state', 'district', 'tehsil', 'panchayat', 'language', 'head_of_hh',\n",
      "       'gender', 'age', 'social_cat', 'fathers_and_mothers_name',\n",
      "       'deprivation_count', 'auto_inclusion_deprivation_code', 'total_members',\n",
      "       'hh_summary_auto_inclusion', 'hh_summary_auto_exclusion',\n",
      "       'hh_summary_auto_other', 'hh_summary_deprivation', 'village'],\n",
      "      dtype='object')\n",
      "../secc/secc_33_clean.7z\n",
      "58288.992074012756\n",
      "276032 85009625 Index(['state', 'district', 'tehsil', 'panchayat', 'language', 'head_of_hh',\n",
      "       'gender', 'age', 'social_cat', 'fathers_and_mothers_name',\n",
      "       'deprivation_count', 'auto_inclusion_deprivation_code', 'total_members',\n",
      "       'hh_summary_auto_inclusion', 'hh_summary_auto_exclusion',\n",
      "       'hh_summary_auto_other', 'hh_summary_deprivation', 'village'],\n",
      "      dtype='object')\n",
      "../secc/secc_34_clean.7z\n",
      "61280.37703895569\n",
      "4354463 89364088 Index(['state', 'district', 'tehsil', 'panchayat', 'language', 'head_of_hh',\n",
      "       'gender', 'age', 'social_cat', 'fathers_and_mothers_name',\n",
      "       'deprivation_count', 'auto_inclusion_deprivation_code', 'total_members',\n",
      "       'hh_summary_auto_inclusion', 'hh_summary_auto_exclusion',\n",
      "       'hh_summary_auto_other', 'hh_summary_deprivation', 'village'],\n",
      "      dtype='object')\n",
      "../secc/secc_35_clean.7z\n",
      "61983.71324157715\n",
      "945555 90309643 Index(['state', 'district', 'tehsil', 'panchayat', 'language', 'head_of_hh',\n",
      "       'gender', 'age', 'social_cat', 'fathers_and_mothers_name',\n",
      "       'deprivation_count', 'auto_inclusion_deprivation_code', 'total_members',\n",
      "       'hh_summary_auto_inclusion', 'hh_summary_auto_exclusion',\n",
      "       'hh_summary_auto_other', 'hh_summary_deprivation', 'village'],\n",
      "      dtype='object')\n",
      "../secc/secc_36_clean.7z\n",
      "63121.11737060547\n",
      "1487065 91796708 Index(['state', 'district', 'tehsil', 'panchayat', 'language', 'head_of_hh',\n",
      "       'gender', 'age', 'social_cat', 'fathers_and_mothers_name',\n",
      "       'deprivation_count', 'auto_inclusion_deprivation_code', 'total_members',\n",
      "       'hh_summary_auto_inclusion', 'hh_summary_auto_exclusion',\n",
      "       'hh_summary_auto_other', 'hh_summary_deprivation', 'village'],\n",
      "      dtype='object')\n",
      "../secc/secc_37_clean.7z\n",
      "67873.73983478546\n",
      "6324710 98121418 Index(['state', 'district', 'tehsil', 'panchayat', 'language', 'head_of_hh',\n",
      "       'gender', 'age', 'social_cat', 'fathers_and_mothers_name',\n",
      "       'deprivation_count', 'auto_inclusion_deprivation_code', 'total_members',\n",
      "       'hh_summary_auto_inclusion', 'hh_summary_auto_exclusion',\n",
      "       'hh_summary_auto_other', 'hh_summary_deprivation', 'village'],\n",
      "      dtype='object')\n"
     ]
    },
    {
     "name": "stdout",
     "output_type": "stream",
     "text": [
      "../secc/secc_38_clean.7z\n",
      "74184.90186691284\n"
     ]
    },
    {
     "name": "stderr",
     "output_type": "stream",
     "text": [
      "/opt/venv37/lib/python3.7/site-packages/IPython/core/interactiveshell.py:3063: DtypeWarning: Columns (9) have mixed types.Specify dtype option on import or set low_memory=False.\n",
      "  interactivity=interactivity, compiler=compiler, result=result)\n"
     ]
    },
    {
     "name": "stdout",
     "output_type": "stream",
     "text": [
      "10327074 108448492 Index(['state', 'district', 'tehsil', 'panchayat', 'language', 'head_of_hh',\n",
      "       'gender', 'age', 'social_cat', 'fathers_and_mothers_name',\n",
      "       'deprivation_count', 'auto_inclusion_deprivation_code', 'total_members',\n",
      "       'hh_summary_auto_inclusion', 'hh_summary_auto_exclusion',\n",
      "       'hh_summary_auto_other', 'hh_summary_deprivation', 'village'],\n",
      "      dtype='object')\n",
      "../secc/secc_39_clean.7z\n",
      "75198.25197219849\n",
      "1673749 110122241 Index(['state', 'district', 'tehsil', 'panchayat', 'language', 'head_of_hh',\n",
      "       'gender', 'age', 'social_cat', 'fathers_and_mothers_name',\n",
      "       'deprivation_count', 'auto_inclusion_deprivation_code', 'total_members',\n",
      "       'hh_summary_auto_inclusion', 'hh_summary_auto_exclusion',\n",
      "       'hh_summary_auto_other', 'hh_summary_deprivation', 'village'],\n",
      "      dtype='object')\n",
      "../secc/secc_40_clean.7z\n",
      "75617.84690380096\n",
      "682178 110804419 Index(['state', 'district', 'tehsil', 'panchayat', 'language', 'head_of_hh',\n",
      "       'gender', 'age', 'social_cat', 'fathers_and_mothers_name',\n",
      "       'deprivation_count', 'auto_inclusion_deprivation_code', 'total_members',\n",
      "       'hh_summary_auto_inclusion', 'hh_summary_auto_exclusion',\n",
      "       'hh_summary_auto_other', 'hh_summary_deprivation', 'village'],\n",
      "      dtype='object')\n",
      "../secc/secc_41_clean.7z\n",
      "78342.83068180084\n"
     ]
    },
    {
     "name": "stderr",
     "output_type": "stream",
     "text": [
      "/opt/venv37/lib/python3.7/site-packages/IPython/core/interactiveshell.py:3063: DtypeWarning: Columns (9) have mixed types.Specify dtype option on import or set low_memory=False.\n",
      "  interactivity=interactivity, compiler=compiler, result=result)\n"
     ]
    },
    {
     "name": "stdout",
     "output_type": "stream",
     "text": [
      "4481964 115286383 Index(['state', 'district', 'tehsil', 'panchayat', 'language', 'head_of_hh',\n",
      "       'gender', 'age', 'social_cat', 'fathers_and_mothers_name',\n",
      "       'deprivation_count', 'auto_inclusion_deprivation_code', 'total_members',\n",
      "       'hh_summary_auto_inclusion', 'hh_summary_auto_exclusion',\n",
      "       'hh_summary_auto_other', 'hh_summary_deprivation', 'village'],\n",
      "      dtype='object')\n",
      "../secc/secc_42_clean.7z\n",
      "80953.0014925003\n",
      "4184479 119470862 Index(['state', 'district', 'tehsil', 'panchayat', 'language', 'head_of_hh',\n",
      "       'gender', 'age', 'social_cat', 'fathers_and_mothers_name',\n",
      "       'deprivation_count', 'auto_inclusion_deprivation_code', 'total_members',\n",
      "       'hh_summary_auto_inclusion', 'hh_summary_auto_exclusion',\n",
      "       'hh_summary_auto_other', 'hh_summary_deprivation', 'village'],\n",
      "      dtype='object')\n",
      "../secc/secc_43_clean.7z\n",
      "83238.80101299286\n",
      "3726427 123197289 Index(['state', 'district', 'tehsil', 'panchayat', 'language', 'head_of_hh',\n",
      "       'gender', 'age', 'social_cat', 'fathers_and_mothers_name',\n",
      "       'deprivation_count', 'auto_inclusion_deprivation_code', 'total_members',\n",
      "       'hh_summary_auto_inclusion', 'hh_summary_auto_exclusion',\n",
      "       'hh_summary_auto_other', 'hh_summary_deprivation', 'village'],\n",
      "      dtype='object')\n",
      "../secc/secc_44_clean.7z\n",
      "85135.48568344116\n"
     ]
    },
    {
     "name": "stderr",
     "output_type": "stream",
     "text": [
      "/opt/venv37/lib/python3.7/site-packages/IPython/core/interactiveshell.py:3063: DtypeWarning: Columns (9) have mixed types.Specify dtype option on import or set low_memory=False.\n",
      "  interactivity=interactivity, compiler=compiler, result=result)\n"
     ]
    },
    {
     "name": "stdout",
     "output_type": "stream",
     "text": [
      "2783885 125981174 Index(['state', 'district', 'tehsil', 'panchayat', 'language', 'head_of_hh',\n",
      "       'gender', 'age', 'social_cat', 'fathers_and_mothers_name',\n",
      "       'deprivation_count', 'auto_inclusion_deprivation_code', 'total_members',\n",
      "       'hh_summary_auto_inclusion', 'hh_summary_auto_exclusion',\n",
      "       'hh_summary_auto_other', 'hh_summary_deprivation', 'village'],\n",
      "      dtype='object')\n",
      "../secc/secc_45_clean.7z\n",
      "85284.77791786194\n",
      "215729 126196903 Index(['state', 'district', 'tehsil', 'panchayat', 'language', 'head_of_hh',\n",
      "       'gender', 'age', 'social_cat', 'fathers_and_mothers_name',\n",
      "       'deprivation_count', 'auto_inclusion_deprivation_code', 'total_members',\n",
      "       'hh_summary_auto_inclusion', 'hh_summary_auto_exclusion',\n",
      "       'hh_summary_auto_other', 'hh_summary_deprivation', 'village'],\n",
      "      dtype='object')\n",
      "../secc/secc_46_clean.7z\n",
      "89282.15476989746\n",
      "5476312 131673215 Index(['state', 'district', 'tehsil', 'panchayat', 'language', 'head_of_hh',\n",
      "       'gender', 'age', 'social_cat', 'fathers_and_mothers_name',\n",
      "       'deprivation_count', 'auto_inclusion_deprivation_code', 'total_members',\n",
      "       'hh_summary_auto_inclusion', 'hh_summary_auto_exclusion',\n",
      "       'hh_summary_auto_other', 'hh_summary_deprivation', 'village'],\n",
      "      dtype='object')\n",
      "../secc/secc_47_clean.7z\n",
      "92503.64129447937\n",
      "4261533 135934748 Index(['state', 'district', 'tehsil', 'panchayat', 'language', 'head_of_hh',\n",
      "       'gender', 'age', 'social_cat', 'fathers_and_mothers_name',\n",
      "       'deprivation_count', 'auto_inclusion_deprivation_code', 'total_members',\n",
      "       'hh_summary_auto_inclusion', 'hh_summary_auto_exclusion',\n",
      "       'hh_summary_auto_other', 'hh_summary_deprivation', 'village'],\n",
      "      dtype='object')\n",
      "../secc/secc_48_clean.7z\n",
      "95726.09634971619\n",
      "4263484 140198232 Index(['state', 'district', 'tehsil', 'panchayat', 'language', 'head_of_hh',\n",
      "       'gender', 'age', 'social_cat', 'fathers_and_mothers_name',\n",
      "       'deprivation_count', 'auto_inclusion_deprivation_code', 'total_members',\n",
      "       'hh_summary_auto_inclusion', 'hh_summary_auto_exclusion',\n",
      "       'hh_summary_auto_other', 'hh_summary_deprivation', 'village'],\n",
      "      dtype='object')\n"
     ]
    }
   ],
   "source": [
    "total_size = 0\n",
    "total = 0\n",
    "header = True\n",
    "for fn in sorted(glob('../secc/secc*.7z')):\n",
    "    print(fn)\n",
    "    with libarchive.file_reader(fn) as e:\n",
    "        for entry in e:\n",
    "            total_size += entry.size\n",
    "            print(total_size / (1024*1024))\n",
    "            with BytesIO() as f:\n",
    "                for i, block in enumerate(entry.get_blocks()):\n",
    "                    f.write(block)\n",
    "                f.seek(0)\n",
    "                df = pd.read_csv(f)\n",
    "\n",
    "    del df['Unnamed: 0']\n",
    "    df.drop(df[df['auto_inclusion_deprivation_or_exclusion_or_other ']!='Auto Inclusion or Deprivation'].index, inplace=True)\n",
    "    df.dropna(subset=['head_of_hh'], inplace=True)\n",
    "    del df['auto_inclusion_deprivation_or_exclusion_or_other ']\n",
    "    df.drop_duplicates(inplace=True)\n",
    "    n = len(df)\n",
    "    total += n\n",
    "    print(n, total, df.columns)\n",
    "    df.to_csv('/opt/data/secc/v2/secc_deduped.csv', mode='a', header=header, index=False)\n",
    "    header = False\n",
    "    #break"
   ]
  },
  {
   "cell_type": "code",
   "execution_count": 3,
   "metadata": {},
   "outputs": [
    {
     "data": {
      "text/plain": [
       "state\n",
       "ARUNACHAL PRADESH      396532\n",
       "ASSAM                 2371410\n",
       "BIHAR                18062667\n",
       "CHHATTISGARH          2845416\n",
       "GUJARAT               6824687\n",
       "HARYANA               2642841\n",
       "KERALA                5935301\n",
       "MADHYA PRADESH       11264200\n",
       "MAHARASHTRA          13729467\n",
       "MIZORAM                 40190\n",
       "NAGALAND               284991\n",
       "ODISHA               10522478\n",
       "PUNJAB                2949448\n",
       "RAJASTHAN             9451669\n",
       "SIKKIM                  88828\n",
       "TAMILNADU            10224155\n",
       "UTTAR PRADESH        24810878\n",
       "UTTARAKHAND           1475188\n",
       "WEST BENGAL          16277886\n",
       "dtype: int64"
      ]
     },
     "execution_count": 3,
     "metadata": {},
     "output_type": "execute_result"
    }
   ],
   "source": [
    "df = pd.read_csv('/opt/data/secc/v2/secc_deduped.csv', usecols=['state'])\n",
    "df.groupby(['state']).size()"
   ]
  },
  {
   "cell_type": "code",
   "execution_count": 4,
   "metadata": {},
   "outputs": [
    {
     "data": {
      "text/html": [
       "<div>\n",
       "<style scoped>\n",
       "    .dataframe tbody tr th:only-of-type {\n",
       "        vertical-align: middle;\n",
       "    }\n",
       "\n",
       "    .dataframe tbody tr th {\n",
       "        vertical-align: top;\n",
       "    }\n",
       "\n",
       "    .dataframe thead th {\n",
       "        text-align: right;\n",
       "    }\n",
       "</style>\n",
       "<table border=\"1\" class=\"dataframe\">\n",
       "  <thead>\n",
       "    <tr style=\"text-align: right;\">\n",
       "      <th></th>\n",
       "      <th>state</th>\n",
       "    </tr>\n",
       "  </thead>\n",
       "  <tbody>\n",
       "    <tr>\n",
       "      <th>0</th>\n",
       "      <td>ARUNACHAL PRADESH</td>\n",
       "    </tr>\n",
       "    <tr>\n",
       "      <th>1</th>\n",
       "      <td>ARUNACHAL PRADESH</td>\n",
       "    </tr>\n",
       "    <tr>\n",
       "      <th>2</th>\n",
       "      <td>ARUNACHAL PRADESH</td>\n",
       "    </tr>\n",
       "    <tr>\n",
       "      <th>3</th>\n",
       "      <td>ARUNACHAL PRADESH</td>\n",
       "    </tr>\n",
       "    <tr>\n",
       "      <th>4</th>\n",
       "      <td>ARUNACHAL PRADESH</td>\n",
       "    </tr>\n",
       "    <tr>\n",
       "      <th>...</th>\n",
       "      <td>...</td>\n",
       "    </tr>\n",
       "    <tr>\n",
       "      <th>140198227</th>\n",
       "      <td>WEST BENGAL</td>\n",
       "    </tr>\n",
       "    <tr>\n",
       "      <th>140198228</th>\n",
       "      <td>WEST BENGAL</td>\n",
       "    </tr>\n",
       "    <tr>\n",
       "      <th>140198229</th>\n",
       "      <td>WEST BENGAL</td>\n",
       "    </tr>\n",
       "    <tr>\n",
       "      <th>140198230</th>\n",
       "      <td>WEST BENGAL</td>\n",
       "    </tr>\n",
       "    <tr>\n",
       "      <th>140198231</th>\n",
       "      <td>WEST BENGAL</td>\n",
       "    </tr>\n",
       "  </tbody>\n",
       "</table>\n",
       "<p>140198232 rows × 1 columns</p>\n",
       "</div>"
      ],
      "text/plain": [
       "                       state\n",
       "0          ARUNACHAL PRADESH\n",
       "1          ARUNACHAL PRADESH\n",
       "2          ARUNACHAL PRADESH\n",
       "3          ARUNACHAL PRADESH\n",
       "4          ARUNACHAL PRADESH\n",
       "...                      ...\n",
       "140198227        WEST BENGAL\n",
       "140198228        WEST BENGAL\n",
       "140198229        WEST BENGAL\n",
       "140198230        WEST BENGAL\n",
       "140198231        WEST BENGAL\n",
       "\n",
       "[140198232 rows x 1 columns]"
      ]
     },
     "execution_count": 4,
     "metadata": {},
     "output_type": "execute_result"
    }
   ],
   "source": [
    "df"
   ]
  }
 ],
 "metadata": {
  "kernelspec": {
   "display_name": "Python 3",
   "language": "python",
   "name": "python3"
  },
  "language_info": {
   "codemirror_mode": {
    "name": "ipython",
    "version": 3
   },
   "file_extension": ".py",
   "mimetype": "text/x-python",
   "name": "python",
   "nbconvert_exporter": "python",
   "pygments_lexer": "ipython3",
   "version": "3.7.8"
  }
 },
 "nbformat": 4,
 "nbformat_minor": 2
}
